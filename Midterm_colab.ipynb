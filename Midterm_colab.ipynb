{
  "nbformat": 4,
  "nbformat_minor": 0,
  "metadata": {
    "colab": {
      "name": "trialerror",
      "provenance": [],
      "collapsed_sections": []
    },
    "kernelspec": {
      "name": "python3",
      "display_name": "Python 3"
    }
  },
  "cells": [
    {
      "cell_type": "code",
      "metadata": {
        "id": "vuENpYCB-3c7",
        "colab_type": "code",
        "colab": {}
      },
      "source": [
        "import os\n",
        "! git clone https://github.com/NVIDIA/apex\n",
        "os.chdir('apex')\n",
        "!pip install -v --no-cache-dir ./"
      ],
      "execution_count": 0,
      "outputs": []
    },
    {
      "cell_type": "code",
      "metadata": {
        "id": "Bwt1VWekJs18",
        "colab_type": "code",
        "colab": {}
      },
      "source": [
        "!pip install simpletransformers\n",
        "!pip install transformers"
      ],
      "execution_count": 0,
      "outputs": []
    },
    {
      "cell_type": "code",
      "metadata": {
        "id": "cujvMl_XCxuT",
        "colab_type": "code",
        "colab": {}
      },
      "source": [
        "from argparse import Namespace\n",
        "from collections import Counter\n",
        "import json\n",
        "import os\n",
        "import string\n",
        "import numpy as np\n",
        "import torch\n",
        "import torch.nn as nn\n",
        "import torch.nn.functional as F\n",
        "import torch.optim as optim\n",
        "from torch.utils.data import Dataset, DataLoader\n",
        "from tqdm import tqdm_notebook\n",
        "from apex import amp\n",
        "from simpletransformers.classification import ClassificationModel\n",
        "import pandas as pd\n",
        "import logging\n",
        "from sklearn import datasets, linear_model\n",
        "from sklearn.model_selection import train_test_split\n",
        "from matplotlib import pyplot as plt"
      ],
      "execution_count": 0,
      "outputs": []
    },
    {
      "cell_type": "code",
      "metadata": {
        "id": "-S6Uv9H-J-OF",
        "colab_type": "code",
        "colab": {}
      },
      "source": [
        "logging.basicConfig(level=logging.INFO)\n",
        "transformers_logger = logging.getLogger(\"transformers\")\n",
        "transformers_logger.setLevel(logging.WARNING)\n"
      ],
      "execution_count": 0,
      "outputs": []
    },
    {
      "cell_type": "code",
      "metadata": {
        "id": "LfDL33rIPpOj",
        "colab_type": "code",
        "colab": {}
      },
      "source": [
        "from google.colab import drive\n",
        "drive.mount('/content/drive')"
      ],
      "execution_count": 0,
      "outputs": []
    },
    {
      "cell_type": "code",
      "metadata": {
        "id": "HvzXVVX6PF4P",
        "colab_type": "code",
        "colab": {}
      },
      "source": [
        "df = pd.read_csv('/content/drive/My Drive/Colab Notebooks/database2.csv')"
      ],
      "execution_count": 0,
      "outputs": []
    },
    {
      "cell_type": "code",
      "metadata": {
        "id": "tqM2FLf3Qdda",
        "colab_type": "code",
        "outputId": "fbde7b86-aa6c-4eef-c951-4596853befff",
        "colab": {
          "base_uri": "https://localhost:8080/",
          "height": 52
        }
      },
      "source": [
        "df['text'] = df['text'].astype(str)\n",
        "print (df['text'].dtype)\n",
        "print (df['labels'].dtype)"
      ],
      "execution_count": 7,
      "outputs": [
        {
          "output_type": "stream",
          "text": [
            "object\n",
            "int64\n"
          ],
          "name": "stdout"
        }
      ]
    },
    {
      "cell_type": "code",
      "metadata": {
        "id": "UFMi7DJ6Q4Vw",
        "colab_type": "code",
        "outputId": "a1f38904-f5e4-4108-c695-0e7e3a51d154",
        "colab": {
          "base_uri": "https://localhost:8080/",
          "height": 35
        }
      },
      "source": [
        "df_train, df_eval = train_test_split(df, test_size=0.2)\n",
        "print (df['text'].dtype)"
      ],
      "execution_count": 8,
      "outputs": [
        {
          "output_type": "stream",
          "text": [
            "object\n"
          ],
          "name": "stdout"
        }
      ]
    },
    {
      "cell_type": "code",
      "metadata": {
        "id": "W5ZeWG10J_K7",
        "colab_type": "code",
        "colab": {}
      },
      "source": [
        "train_df = df_train\n",
        "eval_df = df_eval"
      ],
      "execution_count": 0,
      "outputs": []
    },
    {
      "cell_type": "code",
      "metadata": {
        "id": "6qUXPK1GKRm-",
        "colab_type": "code",
        "colab": {}
      },
      "source": [
        "model = ClassificationModel('distilbert', 'distilbert-base-uncased', use_cuda=False) # You can set class weights by using the optional weight argument"
      ],
      "execution_count": 0,
      "outputs": []
    },
    {
      "cell_type": "code",
      "metadata": {
        "id": "1FyJQW75ZjBf",
        "colab_type": "code",
        "colab": {}
      },
      "source": [
        "args={\"overwrite_output_dir\": True,\n",
        "      \"max_seq_length\": 128,\n",
        "      \"train_batch_size\": 8,\n",
        "      \"eval_batch_size\": 8,\n",
        "      \"gradient_accumulation_steps\": 1,\n",
        "      \"num_train_epochs\": 10,\n",
        "      \"weight_decay\": 0,\n",
        "      \"learning_rate\": 4e-5,\n",
        "      \"use_early_stopping\": False,\n",
        "      \"early_stopping_patience\": 3,\n",
        "      \"early_stopping_delta\": 0,\n",
        "      \"early_stopping_metric\": \"eval_loss\",\n",
        "      \"early_stopping_metric_minimize\": True}"
      ],
      "execution_count": 0,
      "outputs": []
    },
    {
      "cell_type": "code",
      "metadata": {
        "id": "pnGmqSG9KeXr",
        "colab_type": "code",
        "colab": {}
      },
      "source": [
        "model.train_model(train_df, args=args)"
      ],
      "execution_count": 0,
      "outputs": []
    },
    {
      "cell_type": "code",
      "metadata": {
        "id": "lG5TjQ1lc_ad",
        "colab_type": "code",
        "colab": {}
      },
      "source": [
        "import sklearn\n",
        "\n",
        "\n",
        "result, model_outputs, wrong_predictions = model.eval_model(eval_df, acc=sklearn.metrics.accuracy_score)"
      ],
      "execution_count": 0,
      "outputs": []
    },
    {
      "cell_type": "code",
      "metadata": {
        "id": "EI2M1AOSVyZR",
        "colab_type": "code",
        "outputId": "02f71172-0f41-4dc0-aa89-6dac359acb26",
        "colab": {
          "base_uri": "https://localhost:8080/",
          "height": 35
        }
      },
      "source": [
        "x_predict = input()"
      ],
      "execution_count": 0,
      "outputs": [
        {
          "output_type": "stream",
          "text": [
            "do something that is pretty cool\n"
          ],
          "name": "stdout"
        }
      ]
    },
    {
      "cell_type": "code",
      "metadata": {
        "id": "rZaZ4kw4UnZf",
        "colab_type": "code",
        "colab": {}
      },
      "source": [
        "predictions, raw_outputs = model.predict([x_predict])\n",
        "print(predictions)"
      ],
      "execution_count": 0,
      "outputs": []
    }
  ]
}